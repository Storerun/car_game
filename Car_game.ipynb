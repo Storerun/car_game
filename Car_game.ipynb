{
 "cells": [
  {
   "cell_type": "code",
   "execution_count": 10,
   "id": "6ded9717",
   "metadata": {},
   "outputs": [
    {
     "name": "stdout",
     "output_type": "stream",
     "text": [
      "> s\n",
      "Sorry, I do not understand that!\n",
      "> start\n",
      "> start\n",
      "Car is already started!\n",
      "> stop\n",
      "> start\n",
      "> stop\n",
      "> stop\n",
      "Car is already stopped.\n",
      "> quit\n"
     ]
    }
   ],
   "source": [
    "command=''\n",
    "started = False\n",
    "while True:\n",
    "    command = input('> ').lower()\n",
    "    if command == 'start':\n",
    "        if started:\n",
    "            print(\"Car is already started!\")\n",
    "        else:\n",
    "            started = True\n",
    "    elif command == 'stop':\n",
    "        if not started:\n",
    "            print(\"Car is already stopped.\")\n",
    "        else:\n",
    "            started = False\n",
    "    elif command == 'help':\n",
    "        print(\"\"\" \n",
    "start - to start the car\n",
    "stop - to stop the car\n",
    "quit - to quit\n",
    "\"\"\")\n",
    "    elif command == 'quit':\n",
    "        break\n",
    "    else:\n",
    "        print('Sorry, I do not understand that!')"
   ]
  },
  {
   "cell_type": "code",
   "execution_count": null,
   "id": "39839628",
   "metadata": {},
   "outputs": [],
   "source": []
  }
 ],
 "metadata": {
  "kernelspec": {
   "display_name": "Python 3",
   "language": "python",
   "name": "python3"
  },
  "language_info": {
   "codemirror_mode": {
    "name": "ipython",
    "version": 3
   },
   "file_extension": ".py",
   "mimetype": "text/x-python",
   "name": "python",
   "nbconvert_exporter": "python",
   "pygments_lexer": "ipython3",
   "version": "3.8.8"
  }
 },
 "nbformat": 4,
 "nbformat_minor": 5
}
